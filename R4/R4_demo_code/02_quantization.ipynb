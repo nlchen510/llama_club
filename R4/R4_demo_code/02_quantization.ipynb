{
 "cells": [
  {
   "cell_type": "markdown",
   "metadata": {},
   "source": [
    "# 量化 (Quantization)\n",
    "\n",
    "量化是將模型權重和激活函數從浮點數轉換為較低精度（如 INT8）以減少模型大小和計算需求的方法。這可以顯著提高推理速度並減少記憶體使用量，特別是在資源受限的設備上，如移動設備或嵌入式系統。\n",
    "\n",
    "## PyTorch 中的量化\n",
    "\n",
    "PyTorch 提供了多種量化方法，包括靜態量化 (Static Quantization)、動態量化 (Dynamic Quantization) 和量化感知訓練 (Quantization Aware Training)。在這裡，我們將展示如何對 `torch.nn` 模型進行動態量化，並比較量化前後的速度。\n",
    "\n",
    "### 1. 安裝必要的庫\n",
    "\n",
    "```python\n",
    "# 安裝 torch 庫\n",
    "!pip install torch\n"
   ]
  },
  {
   "cell_type": "code",
   "execution_count": 10,
   "metadata": {},
   "outputs": [],
   "source": [
    "import torch\n",
    "import torch.nn as nn\n",
    "import time\n"
   ]
  },
  {
   "cell_type": "code",
   "execution_count": 11,
   "metadata": {},
   "outputs": [],
   "source": [
    "class SimpleModel(nn.Module):\n",
    "    def __init__(self):\n",
    "        super(SimpleModel, self).__init__()\n",
    "        self.fc1 = nn.Linear(784, 128)\n",
    "        self.relu = nn.ReLU()\n",
    "        self.fc2 = nn.Linear(128, 10)\n",
    "    \n",
    "    def forward(self, x):\n",
    "        x = self.fc1(x)\n",
    "        x = self.relu(x)\n",
    "        x = self.fc2(x)\n",
    "        return x\n",
    "\n",
    "model = SimpleModel()"
   ]
  },
  {
   "cell_type": "code",
   "execution_count": 12,
   "metadata": {},
   "outputs": [],
   "source": [
    "# 將模型轉換為動態量化模型\n",
    "quantized_model = torch.quantization.quantize_dynamic(\n",
    "    model, {nn.Linear}, dtype=torch.qint8\n",
    ")"
   ]
  },
  {
   "cell_type": "code",
   "execution_count": 14,
   "metadata": {},
   "outputs": [],
   "source": [
    "# 創建測試數據\n",
    "input_data = torch.randn(1000, 784)"
   ]
  },
  {
   "cell_type": "code",
   "execution_count": 16,
   "metadata": {},
   "outputs": [
    {
     "name": "stdout",
     "output_type": "stream",
     "text": [
      "原始模型推理時間: 0.1810 秒\n",
      "量化模型推理時間: 0.1500 秒\n",
      "速度提升: 1.21 倍\n"
     ]
    }
   ],
   "source": [
    "# 測量原始模型的推理時間\n",
    "start_time = time.time()\n",
    "with torch.no_grad():\n",
    "    for _ in range(100):\n",
    "        model(input_data)\n",
    "original_time = time.time() - start_time\n",
    "\n",
    "# 測量量化模型的推理時間\n",
    "start_time = time.time()\n",
    "with torch.no_grad():\n",
    "    for _ in range(100):\n",
    "        quantized_model(input_data)\n",
    "quantized_time = time.time() - start_time\n",
    "\n",
    "# 顯示結果\n",
    "print(f\"原始模型推理時間: {original_time:.4f} 秒\")\n",
    "print(f\"量化模型推理時間: {quantized_time:.4f} 秒\")\n",
    "print(f\"速度提升: {original_time / quantized_time:.2f} 倍\")"
   ]
  },
  {
   "cell_type": "code",
   "execution_count": null,
   "metadata": {},
   "outputs": [],
   "source": []
  },
  {
   "cell_type": "code",
   "execution_count": null,
   "metadata": {},
   "outputs": [],
   "source": []
  }
 ],
 "metadata": {
  "kernelspec": {
   "display_name": "Python 3",
   "language": "python",
   "name": "python3"
  },
  "language_info": {
   "codemirror_mode": {
    "name": "ipython",
    "version": 3
   },
   "file_extension": ".py",
   "mimetype": "text/x-python",
   "name": "python",
   "nbconvert_exporter": "python",
   "pygments_lexer": "ipython3",
   "version": "3.10.0"
  }
 },
 "nbformat": 4,
 "nbformat_minor": 4
}
