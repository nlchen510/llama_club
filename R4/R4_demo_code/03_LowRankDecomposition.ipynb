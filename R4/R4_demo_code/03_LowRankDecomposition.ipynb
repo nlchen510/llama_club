{
 "cells": [
  {
   "cell_type": "markdown",
   "metadata": {},
   "source": [
    "# Low Rank Decomposition\n",
    "\n",
    "定義：低秩分解是指使**用兩個或多個rank較低的矩陣乘積**來**近似**表示一個**rank較高的矩陣**的方法。"
   ]
  },
  {
   "cell_type": "markdown",
   "metadata": {},
   "source": [
    "# 矩陣的Rank（秩）\n",
    "\n",
    "矩陣的rank指的是矩陣中線性無關行或列的最大數目。這意味著rank是矩陣所能表示的最大線性無關向量的數量。\n",
    "\n",
    "## 定義\n",
    "- **行rank**：矩陣中線性無關行向量的最大數目。\n",
    "- **列rank**：矩陣中線性無關列向量的最大數目。\n",
    "\n",
    "對於任意矩陣，行rank和列rank總是相等的，因此我們只需提到矩陣的rank，而不需區分行rank或列rank。\n",
    "\n",
    "## 例子\n",
    "假設有一個矩陣 \\($A$\\)：\n",
    "\n",
    "\n",
    "$A$ = \n",
    "\\begin{pmatrix}\n",
    "1 & 2 & 3 \\\\\n",
    "4 & 5 & 6 \\\\\n",
    "7 & 8 & 9\n",
    "\\end{pmatrix}\n",
    "\n",
    "\n",
    "通過行簡化矩陣，可以得出這個矩陣的rank：\n",
    "\n",
    "\n",
    "\\begin{pmatrix}\n",
    "1 & 2 & 3 \\\\\n",
    "0 & -3 & -6 \\\\\n",
    "0 & 0 & 0\n",
    "\\end{pmatrix}\n",
    "\n",
    "\n",
    "在行簡化形式中，矩陣有兩個非零row，因此這個矩陣的rank是2。\n",
    "\n",
    "## 性質\n",
    "- 如果一個 \\(m $\\times$ n\\) 的矩陣 \\(A\\) 的rank是 \\($r$\\)，則 \\($r \\leq \\min(m, n)$\\)。\n",
    "- 矩陣的rank不會超過它的行數或列數。\n",
    "- 矩陣的rank為零當且僅當矩陣是零矩陣。\n",
    "\n",
    "## 應用\n",
    "- **線性方程組**：矩陣的rank可以用來判斷線性方程組是否有解，以及解的唯一性。\n",
    "- **線性變換**：矩陣的rank描述了線性變換的維度，即變換後的向量空間的維數。\n",
    "- **數據分析**：在主成分分析（PCA）中，矩陣的rank幫助確定數據的有效維數，從而進行降維處理。\n",
    "\n",
    "## 計算方法\n",
    "1. **行簡化法**：通過初等行變換將矩陣轉換為簡化階梯形矩陣，非零行的數目即為矩陣的rank。\n",
    "2. **SVD分解**：使用奇異值分解（SVD）來計算矩陣的rank，奇異值為零的數目即為矩陣rank的補數。\n",
    "\n",
    "## 參考資料\n",
    "* [奇異值分解 (SVD)](https://ccjou.wordpress.com/2009/09/01/%E5%A5%87%E7%95%B0%E5%80%BC%E5%88%86%E8%A7%A3-svd/)\n",
    "\n",
    "![SVD](SVD.PNG)\n"
   ]
  },
  {
   "cell_type": "code",
   "execution_count": 1,
   "metadata": {},
   "outputs": [],
   "source": [
    "import numpy as np\n",
    "import matplotlib.pyplot as plt\n"
   ]
  },
  {
   "cell_type": "code",
   "execution_count": 6,
   "metadata": {},
   "outputs": [
    {
     "name": "stdout",
     "output_type": "stream",
     "text": [
      "full-rank = Original Matrix A:\n",
      "[[0.55 0.72 0.6  0.54 0.42]\n",
      " [0.65 0.44 0.89 0.96 0.38]\n",
      " [0.79 0.53 0.57 0.93 0.07]\n",
      " [0.09 0.02 0.83 0.78 0.87]\n",
      " [0.98 0.8  0.46 0.78 0.12]]\n",
      "\n",
      "\n",
      "Rank 1 approximation:\n",
      "[[0.57 0.47 0.6  0.73 0.32]\n",
      " [0.72 0.58 0.76 0.92 0.4 ]\n",
      " [0.65 0.52 0.68 0.82 0.36]\n",
      " [0.52 0.42 0.55 0.66 0.29]\n",
      " [0.68 0.55 0.71 0.86 0.37]]\n",
      "\n",
      "\n",
      "Rank 3 approximation:\n",
      "[[0.57 0.7  0.57 0.55 0.45]\n",
      " [0.66 0.43 0.82 1.   0.43]\n",
      " [0.81 0.51 0.58 0.91 0.07]\n",
      " [0.07 0.03 0.88 0.76 0.84]\n",
      " [0.94 0.82 0.51 0.77 0.07]]\n",
      "\n",
      "\n"
     ]
    }
   ],
   "source": [
    "# 生成一個隨機矩陣\n",
    "np.random.seed(0)\n",
    "A = np.random.rand(5, 5)  # 5x5矩陣\n",
    "print(f\"full-rank = Original Matrix A:\")\n",
    "print(A)\n",
    "print(\"\\n\")\n",
    "\n",
    "# 進行奇異值分解\n",
    "# U, Vt : 實正交矩陣(Orthogonal, m^T = m^-1])\n",
    "# S : 對角矩陣\n",
    "U, S, Vt = np.linalg.svd(A)\n",
    "\n",
    "# 設定小數點位數為 2 位\n",
    "np.set_printoptions(precision=2)\n",
    "\n",
    "# 不同的k值的rank\n",
    "for k in [1, 3]:\n",
    "    S_k = np.diag(S[:k])  # 取前k個奇異值\n",
    "    A_k = U[:, :k] @ S_k @ Vt[:k, :]  # 低秩近似矩陣\n",
    "    print(f\"Rank {k} approximation:\")\n",
    "    print(A_k)\n",
    "    print(\"\\n\")\n"
   ]
  },
  {
   "cell_type": "code",
   "execution_count": 4,
   "metadata": {},
   "outputs": [
    {
     "data": {
      "image/png": "[encoded data removed]",
      "text/plain": [
       "<Figure size 500x300 with 1 Axes>"
      ]
     },
     "metadata": {},
     "output_type": "display_data"
    }
   ],
   "source": [
    "# 生成一個隨機矩陣\n",
    "np.random.seed(0)\n",
    "A = np.random.rand(10, 10)  # 10x10矩陣\n",
    "\n",
    "# 進行奇異值分解\n",
    "U, S, Vt = np.linalg.svd(A)\n",
    "\n",
    "# 計算不同rank近似的誤差\n",
    "errors = []\n",
    "ranks = list(range(1, 11))\n",
    "for k in ranks:\n",
    "    S_k = np.diag(S[:k])\n",
    "    A_k = U[:, :k] @ S_k @ Vt[:k, :]\n",
    "    error = np.linalg.norm(A - A_k, 'fro')  # Frobenius範數\n",
    "    errors.append(error)\n",
    "\n",
    "# 繪製誤差圖表\n",
    "plt.figure(figsize=(5, 3))\n",
    "plt.plot(ranks, errors, marker='o')\n",
    "plt.title('Error of Low Rank Approximations')\n",
    "plt.xlabel('Rank k')\n",
    "plt.ylabel('Frobenius Norm of the Error')\n",
    "plt.grid(True)\n",
    "plt.show()"
   ]
  },
  {
   "cell_type": "code",
   "execution_count": null,
   "metadata": {},
   "outputs": [],
   "source": []
  },
  {
   "cell_type": "code",
   "execution_count": null,
   "metadata": {},
   "outputs": [],
   "source": []
  },
  {
   "cell_type": "code",
   "execution_count": null,
   "metadata": {},
   "outputs": [],
   "source": []
  }
 ],
 "metadata": {
  "kernelspec": {
   "display_name": "Python 3",
   "language": "python",
   "name": "python3"
  },
  "language_info": {
   "codemirror_mode": {
    "name": "ipython",
    "version": 3
   },
   "file_extension": ".py",
   "mimetype": "text/x-python",
   "name": "python",
   "nbconvert_exporter": "python",
   "pygments_lexer": "ipython3",
   "version": "3.10.0rc2"
  }
 },
 "nbformat": 4,
 "nbformat_minor": 4
}
