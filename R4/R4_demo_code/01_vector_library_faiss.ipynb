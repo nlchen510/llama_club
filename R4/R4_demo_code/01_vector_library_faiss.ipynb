{
 "cells": [
  {
   "cell_type": "markdown",
   "metadata": {},
   "source": [
    "\n",
    "# FAISS 簡介\n",
    "\n",
    "`faiss`（Facebook AI Similarity Search）是一個由Facebook AI Research開發的庫，用於高效地進行相似度搜索和聚類。它特別適合用於處理大型數據集，能夠快速查找高維度向量的最近鄰。\n",
    "\n",
    "## 主要特點\n",
    "\n",
    "- **高效的相似度搜索**：`faiss`使用優化的數據結構和算法來實現高效的最近鄰搜索，包括支持大規模數據集的多層索引。\n",
    "- **多種距離度量**：支持多種距離度量，如L2距離（歐氏距離）、內積和L1距離。\n",
    "- **GPU加速**：支持GPU加速，顯著提高搜索速度，特別是在處理非常大的數據集時。\n",
    "- **靈活的索引結構**：提供多種索引結構，包括平面索引（Flat）、內積索引（IVF）、HNSW等，可以根據具體應用選擇合適的索引方式。\n",
    "\n",
    "## 安裝\n",
    "\n",
    "你可以通過`pip`安裝`faiss`：\n",
    "\n",
    "```bash\n",
    "!pip install faiss-cpu```\n"
   ]
  },
  {
   "cell_type": "markdown",
   "metadata": {},
   "source": [
    "## 參考資料\n",
    "\n",
    "- [FAISS GitHub Repository](https://github.com/facebookresearch/faiss)\n",
    "- [FAISS 官方文件](https://faiss.ai/)\n"
   ]
  },
  {
   "cell_type": "code",
   "execution_count": 2,
   "metadata": {},
   "outputs": [],
   "source": [
    "import numpy as np\n",
    "import faiss\n",
    "import time"
   ]
  },
  {
   "cell_type": "markdown",
   "metadata": {},
   "source": [
    "## 範例\n",
    "- 創建一個包含100,000筆128維向量的資料集。\n",
    "- 創建一個包含1,000筆128維向量的查詢集，對每個查詢向量，找出在資料集中的最近的K個鄰近點。"
   ]
  },
  {
   "cell_type": "code",
   "execution_count": 3,
   "metadata": {},
   "outputs": [],
   "source": [
    "# 創建一些隨機向量作為示例數據\n",
    "d = 128  # 向量的維度\n",
    "nb = 100000  # 資料庫中的向量數量 (number of base vectors)\n",
    "nq = 1000  # 查詢向量的數量 (number of query vectors)\n",
    "\n",
    "np.random.seed(42)  # 為了可重複性\n",
    "xb = np.random.random((nb, d)).astype('float32')\n",
    "xq = np.random.random((nq, d)).astype('float32')\n"
   ]
  },
  {
   "cell_type": "code",
   "execution_count": 4,
   "metadata": {},
   "outputs": [],
   "source": [
    "# 使用faiss進行搜索\n",
    "def search_with_faiss(xb, xq, k):\n",
    "    index = faiss.IndexFlatL2(d)  # 使用L2距離（歐氏距離）\n",
    "    index.add(xb)  # 向索引中添加向量\n",
    "    D, I = index.search(xq, k)  # 搜索\n",
    "    return D, I\n",
    "\n",
    "# 使用NumPy進行搜索\n",
    "def search_with_numpy(xb, xq, k):\n",
    "    D = np.zeros((xq.shape[0], k))\n",
    "    I = np.zeros((xq.shape[0], k), dtype=int)\n",
    "    for i, query in enumerate(xq):\n",
    "        distances = np.linalg.norm(xb - query, axis=1)  # 計算L2距離\n",
    "        indices = np.argsort(distances)[:k]  # 找到距離最近的k個向量\n",
    "        D[i] = distances[indices]\n",
    "        I[i] = indices\n",
    "    return D, I"
   ]
  },
  {
   "cell_type": "code",
   "execution_count": 5,
   "metadata": {},
   "outputs": [],
   "source": [
    "# 搜索最近鄰\n",
    "k = 5  # 我們想要找到的最近鄰數量\n",
    "\n",
    "# 計時faiss\n",
    "start_time = time.time()\n",
    "D_faiss, I_faiss = search_with_faiss(xb, xq, k)\n",
    "faiss_time = time.time() - start_time\n",
    "\n",
    "# 計時NumPy\n",
    "start_time = time.time()\n",
    "D_numpy, I_numpy = search_with_numpy(xb, xq, k)\n",
    "numpy_time = time.time() - start_time\n"
   ]
  },
  {
   "cell_type": "code",
   "execution_count": 6,
   "metadata": {},
   "outputs": [
    {
     "name": "stdout",
     "output_type": "stream",
     "text": [
      "Faiss 搜索時間: 3.2680 秒\n",
      "NumPy 搜索時間: 59.6542 秒\n"
     ]
    }
   ],
   "source": [
    "print(f\"Faiss 搜索時間: {faiss_time:.4f} 秒\")\n",
    "print(f\"NumPy 搜索時間: {numpy_time:.4f} 秒\")"
   ]
  },
  {
   "cell_type": "code",
   "execution_count": 7,
   "metadata": {},
   "outputs": [
    {
     "name": "stdout",
     "output_type": "stream",
     "text": [
      "距離誤差最大值: 11.961426496505737\n",
      "距離誤差平均值: 9.7812795337677\n",
      "索引誤差最大值: 0\n",
      "索引誤差平均值: 0.0\n",
      "最近鄰索引一致率: 1.0000\n"
     ]
    }
   ],
   "source": [
    "# 計算誤差\n",
    "distance_diff = np.abs(D_faiss - D_numpy)\n",
    "index_diff = np.abs(I_faiss - I_numpy)\n",
    "\n",
    "print(f\"距離誤差最大值: {np.max(distance_diff)}\")\n",
    "print(f\"距離誤差平均值: {np.mean(distance_diff)}\")\n",
    "print(f\"索引誤差最大值: {np.max(index_diff)}\")\n",
    "print(f\"索引誤差平均值: {np.mean(index_diff)}\")\n",
    "\n",
    "# 驗證最近鄰索引是否一致\n",
    "correct_indices = np.sum(I_faiss == I_numpy)\n",
    "total_indices = I_faiss.size\n",
    "print(f\"最近鄰索引一致率: {correct_indices / total_indices:.4f}\")"
   ]
  },
  {
   "cell_type": "code",
   "execution_count": 8,
   "metadata": {},
   "outputs": [
    {
     "data": {
      "text/plain": [
       "array([[3.4686811 , 3.539289  , 3.54761195, 3.60324097, 3.60675883],\n",
       "       [3.54771471, 3.55843329, 3.59300971, 3.60448146, 3.6630497 ],\n",
       "       [3.70985723, 3.7118783 , 3.71610141, 3.747679  , 3.74931717],\n",
       "       ...,\n",
       "       [3.69363403, 3.74161434, 3.7549479 , 3.77117944, 3.78726339],\n",
       "       [3.53720784, 3.63410711, 3.65833831, 3.67611313, 3.69432473],\n",
       "       [3.7035203 , 3.74755454, 3.75149083, 3.75690532, 3.76113391]])"
      ]
     },
     "execution_count": 8,
     "metadata": {},
     "output_type": "execute_result"
    }
   ],
   "source": [
    "D_numpy"
   ]
  },
  {
   "cell_type": "code",
   "execution_count": 9,
   "metadata": {},
   "outputs": [
    {
     "data": {
      "text/plain": [
       "array([[12.031754 , 12.52655  , 12.585556 , 12.983345 , 13.0086975],\n",
       "       [12.586273 , 12.662453 , 12.909721 , 12.992279 , 13.417923 ],\n",
       "       [13.763031 , 13.778038 , 13.809425 , 14.045116 , 14.057388 ],\n",
       "       ...,\n",
       "       [13.642944 , 13.999687 , 14.099625 , 14.221764 , 14.343353 ],\n",
       "       [12.511833 , 13.206711 , 13.383469 , 13.513802 , 13.648033 ],\n",
       "       [13.716049 , 14.044167 , 14.073666 , 14.114334 , 14.146111 ]],\n",
       "      dtype=float32)"
      ]
     },
     "execution_count": 9,
     "metadata": {},
     "output_type": "execute_result"
    }
   ],
   "source": [
    "D_faiss"
   ]
  },
  {
   "cell_type": "code",
   "execution_count": null,
   "metadata": {},
   "outputs": [],
   "source": []
  }
 ],
 "metadata": {
  "kernelspec": {
   "display_name": "Python 3",
   "language": "python",
   "name": "python3"
  },
  "language_info": {
   "codemirror_mode": {
    "name": "ipython",
    "version": 3
   },
   "file_extension": ".py",
   "mimetype": "text/x-python",
   "name": "python",
   "nbconvert_exporter": "python",
   "pygments_lexer": "ipython3",
   "version": "3.10.0rc2"
  }
 },
 "nbformat": 4,
 "nbformat_minor": 4
}
